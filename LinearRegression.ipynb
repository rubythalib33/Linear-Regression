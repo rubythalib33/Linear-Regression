{
  "nbformat": 4,
  "nbformat_minor": 0,
  "metadata": {
    "colab": {
      "name": "LinearRegression.ipynb",
      "provenance": []
    },
    "kernelspec": {
      "name": "python3",
      "display_name": "Python 3"
    }
  },
  "cells": [
    {
      "cell_type": "markdown",
      "metadata": {
        "id": "HAR8U9fwPrnr",
        "colab_type": "text"
      },
      "source": [
        "Linear Regression From Scratch"
      ]
    },
    {
      "cell_type": "code",
      "metadata": {
        "id": "4vLdD3lfOObX",
        "colab_type": "code",
        "colab": {
          "base_uri": "https://localhost:8080/",
          "height": 221
        },
        "outputId": "043fd826-aa10-4544-c774-c32bf2e30e9e"
      },
      "source": [
        "#thank you edureka\n",
        "import numpy as np\n",
        "import pandas as pd\n",
        "import matplotlib.pyplot as plt\n",
        "%matplotlib inline\n",
        "plt.rcParams['figure.figsize'] = (20.0,10.0)\n",
        "\n",
        "url='https://raw.githubusercontent.com/mubaris/potential-enigma/master/headbrain.csv'\n",
        "data = pd.read_csv(url)\n",
        "print(data.shape)\n",
        "data.head()"
      ],
      "execution_count": 2,
      "outputs": [
        {
          "output_type": "stream",
          "text": [
            "(237, 4)\n"
          ],
          "name": "stdout"
        },
        {
          "output_type": "execute_result",
          "data": {
            "text/html": [
              "<div>\n",
              "<style scoped>\n",
              "    .dataframe tbody tr th:only-of-type {\n",
              "        vertical-align: middle;\n",
              "    }\n",
              "\n",
              "    .dataframe tbody tr th {\n",
              "        vertical-align: top;\n",
              "    }\n",
              "\n",
              "    .dataframe thead th {\n",
              "        text-align: right;\n",
              "    }\n",
              "</style>\n",
              "<table border=\"1\" class=\"dataframe\">\n",
              "  <thead>\n",
              "    <tr style=\"text-align: right;\">\n",
              "      <th></th>\n",
              "      <th>Gender</th>\n",
              "      <th>Age Range</th>\n",
              "      <th>Head Size(cm^3)</th>\n",
              "      <th>Brain Weight(grams)</th>\n",
              "    </tr>\n",
              "  </thead>\n",
              "  <tbody>\n",
              "    <tr>\n",
              "      <th>0</th>\n",
              "      <td>1</td>\n",
              "      <td>1</td>\n",
              "      <td>4512</td>\n",
              "      <td>1530</td>\n",
              "    </tr>\n",
              "    <tr>\n",
              "      <th>1</th>\n",
              "      <td>1</td>\n",
              "      <td>1</td>\n",
              "      <td>3738</td>\n",
              "      <td>1297</td>\n",
              "    </tr>\n",
              "    <tr>\n",
              "      <th>2</th>\n",
              "      <td>1</td>\n",
              "      <td>1</td>\n",
              "      <td>4261</td>\n",
              "      <td>1335</td>\n",
              "    </tr>\n",
              "    <tr>\n",
              "      <th>3</th>\n",
              "      <td>1</td>\n",
              "      <td>1</td>\n",
              "      <td>3777</td>\n",
              "      <td>1282</td>\n",
              "    </tr>\n",
              "    <tr>\n",
              "      <th>4</th>\n",
              "      <td>1</td>\n",
              "      <td>1</td>\n",
              "      <td>4177</td>\n",
              "      <td>1590</td>\n",
              "    </tr>\n",
              "  </tbody>\n",
              "</table>\n",
              "</div>"
            ],
            "text/plain": [
              "   Gender  Age Range  Head Size(cm^3)  Brain Weight(grams)\n",
              "0       1          1             4512                 1530\n",
              "1       1          1             3738                 1297\n",
              "2       1          1             4261                 1335\n",
              "3       1          1             3777                 1282\n",
              "4       1          1             4177                 1590"
            ]
          },
          "metadata": {
            "tags": []
          },
          "execution_count": 2
        }
      ]
    },
    {
      "cell_type": "code",
      "metadata": {
        "id": "ORhcOVqvQFk2",
        "colab_type": "code",
        "colab": {}
      },
      "source": [
        "X=data['Head Size(cm^3)'].values\n",
        "Y=data['Brain Weight(grams)'].values"
      ],
      "execution_count": 0,
      "outputs": []
    },
    {
      "cell_type": "code",
      "metadata": {
        "id": "7tp1vTQnQae6",
        "colab_type": "code",
        "colab": {
          "base_uri": "https://localhost:8080/",
          "height": 34
        },
        "outputId": "2ee74ac0-c5a4-455e-ac28-2f0ba69d90e5"
      },
      "source": [
        "mean_x= np.mean(X)\n",
        "mean_y= np.mean(Y)\n",
        "\n",
        "n=len(X)\n",
        "num=0\n",
        "denom=0\n",
        "for i in range(n):\n",
        "  num+= (X[i] - mean_x)*(Y[i]-mean_y)\n",
        "  denom+= (X[i]-mean_x)**2\n",
        "b1=num/denom #b1=>m\n",
        "b0=mean_y-(b1*mean_x)#b0=>c\n",
        "\n",
        "print(b1, b0)"
      ],
      "execution_count": 7,
      "outputs": [
        {
          "output_type": "stream",
          "text": [
            "0.26342933948939945 325.57342104944223\n"
          ],
          "name": "stdout"
        }
      ]
    },
    {
      "cell_type": "code",
      "metadata": {
        "id": "2LFyOggJRZ8g",
        "colab_type": "code",
        "colab": {
          "base_uri": "https://localhost:8080/",
          "height": 606
        },
        "outputId": "58cabc48-f3b8-46ad-cebc-26ba83316e04"
      },
      "source": [
        "max_x = np.max(X)+100\n",
        "min_x= np.min(X)-100\n",
        "\n",
        "x=np.linspace(min_x, max_x, 1000)\n",
        "y= b0 + b1 *x\n",
        "\n",
        "plt.plot(x,y, color='#58b970', label='Regression Line')\n",
        "# ploting Scatter Points\n",
        "plt.scatter(X,Y,c='blue', label='Scatter Plot')\n",
        "\n",
        "plt.xlabel('Head Size in cm3')\n",
        "plt.ylabel('Brain Weight in grams')\n",
        "plt.legend()\n",
        "plt.show()"
      ],
      "execution_count": 11,
      "outputs": [
        {
          "output_type": "display_data",
          "data": {
            "image/png": "[encoded data removed]",
            "text/plain": [
              "<Figure size 1440x720 with 1 Axes>"
            ]
          },
          "metadata": {
            "tags": []
          }
        }
      ]
    },
    {
      "cell_type": "code",
      "metadata": {
        "id": "fw3CjzbvTW4C",
        "colab_type": "code",
        "colab": {
          "base_uri": "https://localhost:8080/",
          "height": 34
        },
        "outputId": "ee9bc5a8-6eed-4a8f-b9f6-771b694f0da3"
      },
      "source": [
        "ss_t=0\n",
        "ss_r=0\n",
        "for i in range(n):\n",
        "  y_pred=b0+b1*X[i]\n",
        "  ss_t+=(Y[i]-mean_y)**2\n",
        "  ss_r+=(Y[i]-y_pred)**2\n",
        "r2=1-(ss_r/ss_t)\n",
        "print(r2)"
      ],
      "execution_count": 14,
      "outputs": [
        {
          "output_type": "stream",
          "text": [
            "0.6393117199570003\n"
          ],
          "name": "stdout"
        }
      ]
    },
    {
      "cell_type": "markdown",
      "metadata": {
        "id": "YN27rqxIUeS3",
        "colab_type": "text"
      },
      "source": [
        "Linear Regression using Scikit-learn"
      ]
    },
    {
      "cell_type": "code",
      "metadata": {
        "id": "Z4NABfgPUhc8",
        "colab_type": "code",
        "colab": {
          "base_uri": "https://localhost:8080/",
          "height": 34
        },
        "outputId": "a90e2c10-1eb5-45c9-9994-7db993889322"
      },
      "source": [
        "from sklearn.linear_model import LinearRegression\n",
        "from sklearn.metrics import mean_squared_error\n",
        "\n",
        "X=X.reshape((n,1))\n",
        "\n",
        "reg= LinearRegression()\n",
        "\n",
        "reg=reg.fit(X,Y)\n",
        "\n",
        "Y_pred= reg.predict(X)\n",
        "\n",
        "r2_score=reg.score(X,Y)\n",
        "\n",
        "print(r2_score)"
      ],
      "execution_count": 15,
      "outputs": [
        {
          "output_type": "stream",
          "text": [
            "0.639311719957\n"
          ],
          "name": "stdout"
        }
      ]
    }
  ]
}